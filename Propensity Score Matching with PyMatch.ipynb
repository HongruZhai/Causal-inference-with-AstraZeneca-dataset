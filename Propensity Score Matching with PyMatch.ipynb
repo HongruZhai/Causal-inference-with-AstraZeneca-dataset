{
 "cells": [
  {
   "cell_type": "markdown",
   "metadata": {},
   "source": [
    "# Causal Inference in Observational Study: An implementation of PyMatch library\n",
    "\n",
    "*Hongru Zhai, Uppsala University*\n",
    "\n",
    "In the pursuit of causal insights, ideally experimental settings are needed. However in real life, randomized control trial (RCT) is oftentime not possible or expensive. Real world evidence, on the other hand, is a rich source of observational data that is easy to obtain. Case-control study enables us to draw causal inference in an inexpensive way, where matching techniques like *propensity score matching* come in to play. \n",
    "\n",
    "In the absence of randomized experiment settings, matching techniques can be used to identify and compare two existing groups differing in outcome (as if \"finding\" the control and test groups), which enables the estimation of average treatment effect (ATE) from the purely observational data. "
   ]
  },
  {
   "cell_type": "markdown",
   "metadata": {},
   "source": [
    "Here is an example of causal inference from observational data. In pharmaceutical companies, drug delivery experiments are carried out and recorded by microscopy images of the nurturing wells. After applying certain dose of drug, a successful uptake of the drug to the cell will lead to a fluorescence protein expression of the cell. All the individual cells are tracked down and features of them are observed. \n",
    "\n",
    "<img src=\"https://github.com/HongruZhai/Causal-inference-with-AstraZeneca-dataset/blob/master/GFP.png" />\n",
    "\n",
    "A question we might want to answer is: **Does internuclear distance correlate with GFP expression?**\n",
    "\n",
    "Ideally, to answer the question (to infer causal relationship between internuclear distance and GFP expression), we need a randomized experiment with control and test groups. But if we only have a dataset containing observations of individual cells, we can turn to `Propensity Score Matching` to assign pairs of observations that are suitable to be considered as control-test pairs. \n",
    "\n",
    "Here's how we do it using `PyMatch` package.\n"
   ]
  },
  {
   "cell_type": "code",
   "execution_count": 1,
   "metadata": {},
   "outputs": [],
   "source": [
    "import numpy as np\n",
    "import pandas as pd\n",
    "import warnings\n",
    "warnings.filterwarnings('ignore')\n",
    "from pymatch.Matcher import Matcher"
   ]
  },
  {
   "cell_type": "markdown",
   "metadata": {},
   "source": [
    "Importing the dataset as \"data\"."
   ]
  },
  {
   "cell_type": "code",
   "execution_count": 7,
   "metadata": {},
   "outputs": [],
   "source": [
    "path = \"D:/MachineLearning/single cell data.xlsx\"\n",
    "fields = \\\n",
    "    [\n",
    "        \"LNP dose\",\n",
    "        \"Row\",\n",
    "        \"Column\",\n",
    "        \"Field\",\n",
    "        \"Cells no border - bright GFP\",\n",
    "        \"Cells no border - Distance intens Mean\",\n",
    "        \"Cells no border - dense\",\n",
    "        \"Cells no border - sparse\",\n",
    "        \"Cells no border - bad nuc\",\n",
    "        \"Cells no border - good nuc\",\n",
    "        \"Cells no border - GFP intens Mean\",\n",
    "        \"Cells no border - Nuc intens Mean\",\n",
    "        \"Cells no border - Nuc texture/symmetry Radial Mean Ratio SER-Edge\",\n",
    "        \"Cells no border - Nuc texture/symmetry Radial Relative Deviation SER-Edge\",\n",
    "        'Cells no border - Nuc texture/symmetry Profile 5/5 SER-Edge',\n",
    "        'Cells no border - Nuc texture/symmetry Profile 4/5 SER-Edge',\n",
    "        'Cells no border - Nuc texture/symmetry Axial Length Ratio SER-Edge',\n",
    "        'Cells no border - Nuc texture/symmetry Axial Small Length SER-Edge',\n",
    "        'Cells no border - Nuc texture/symmetry Threshold Compactness 60% SER-Edge',\n",
    "        'Cells no border - Nuc texture/symmetry Symmetry 15 SER-Edge',\n",
    "        'Cells no border - Nuc shape Roundness',\n",
    "        'Cells no border - Nuc shape Area [ÂµmÂ²]',\n",
    "        'Cells no border - Nuc texture/symmetry Radial Mean Ratio SER-Edge',\n",
    "        'Cells no border - Nuc texture/symmetry Radial Relative Deviation SER-Edge'\n",
    "    ]\n",
    "\n",
    "\n",
    "data = pd.read_excel(path)[fields]\n",
    "data = data.rename({'Cells no border - bright GFP':'Bright_GFP',\n",
    "                    'Cells no border - Distance intens Mean':'Distance_intensity_mean',\n",
    "                    'Cells no border - dense':'Dense',\n",
    "                    'Cells no border - sparse':'Sparse',\n",
    "                    'Cells no border - bad nuc':'Bad nuclei',\n",
    "                    'Cells no border - good nuc':'Good nuclei',\n",
    "                    'Cells no border - GFP intens Mean':'GFP_intensity_mean',\n",
    "                    'Cells no border - Nuc intens Mean':'Nuclei_intensity_mean',\n",
    "                    'Cells no border - Nuc texture/symmetry Profile 5/5 SER-Edge':'Nuclei_Profile_55',\n",
    "                    'Cells no border - Nuc texture/symmetry Profile 4/5 SER-Edge':'Nuclei_Profile_45',\n",
    "                    'Cells no border - Nuc texture/symmetry Axial Length Ratio SER-Edge':'Nuclei_Length',\n",
    "                    'Cells no border - Nuc texture/symmetry Axial Small Length SER-Edge':'Nuclei_Small_Length',\n",
    "                    'Cells no border - Nuc texture/symmetry Threshold Compactness 60% SER-Edge':'Compactness',\n",
    "                    'Cells no border - Nuc texture/symmetry Symmetry 15 SER-Edge':'Symmetry',\n",
    "                    'Cells no border - Nuc shape Roundness':'Roundness',\n",
    "                    'Cells no border - Nuc shape Area [ÂµmÂ²]':'Shape_Area',\n",
    "                    'Cells no border - Nuc texture/symmetry Radial Mean Ratio SER-Edge':'Nuclei_Radial_Mean',\n",
    "                    'Cells no border - Nuc texture/symmetry Radial Relative Deviation SER-Edge':'Nuclei_Radial_Deviation'  }, \n",
    "                axis=1)"
   ]
  },
  {
   "cell_type": "markdown",
   "metadata": {},
   "source": [
    "We include only the cells with high dose drug carrier (LNP) applied and the variables that are concerned."
   ]
  },
  {
   "cell_type": "code",
   "execution_count": null,
   "metadata": {},
   "outputs": [],
   "source": [
    "data = data.loc[data['LNP dose']=='high'] #Only cells with high dose LNP are included for the inference\n",
    "data = data[['Bright_GFP', 'Distance_intensity_mean', 'Nuclei_intensity_mean', 'Nuclei_Radial_Mean', 'Nuclei_Radial_Deviation',\n",
    "                'Nuclei_Profile_55','Nuclei_Profile_45','Nuclei_Length','Nuclei_Small_Length','Compactness','Symmetry','Roundness','Shape_Area']]"
   ]
  },
  {
   "cell_type": "markdown",
   "metadata": {},
   "source": [
    "\n",
    "Create test and control groups and assign `Bright_GFP` to be a binary treatment indicator. Observations (individual cells) with bright GFP expression are labelled as test set, while those with not bright enough GFP are labelled as control set. Indicator `Bright_GFP` is our reponse in the logistic regression model(s) used to generate propensity scores."
   ]
  },
  {
   "cell_type": "code",
   "execution_count": 8,
   "metadata": {},
   "outputs": [],
   "source": [
    "test = data.loc[data['Bright_GFP']==1]\n",
    "control = data.loc[data['Bright_GFP']==0]"
   ]
  },
  {
   "cell_type": "markdown",
   "metadata": {},
   "source": [
    "Now we are ready to fit propensity score model. Be careful that the current release of the PyMatch package comes with a bug that can be fixed manually as the comments below indicate."
   ]
  },
  {
   "cell_type": "code",
   "execution_count": null,
   "metadata": {},
   "outputs": [],
   "source": [
    "# For the 'Matcher' to function normally, the following fix of the Pymatch module should be done:\n",
    "# From: \n",
    "# def _scores_to_accuracy(m, X, y):\n",
    "#    preds = [1.0 if i >= .5 else 0.0 for i in m.predict(X)]\n",
    "#    return (y == preds).sum() * 1.0 / len(y)\n",
    "# To:\n",
    "# def _scores_to_accuracy(m, X, y):\n",
    "#    preds = [1.0 if i >= .5 else 0.0 for i in m.predict(X)]\n",
    "#    return (y.to_numpy().T == preds).sum() * 1.0 / len(y)\n",
    "m = Matcher(test, control, yvar=\"Bright_GFP\")"
   ]
  },
  {
   "cell_type": "markdown",
   "metadata": {},
   "source": [
    "Fit the logistic regression model(s) used for generating propensity scores."
   ]
  },
  {
   "cell_type": "code",
   "execution_count": null,
   "metadata": {},
   "outputs": [],
   "source": [
    "m.fit_scores(balance=True, nmodels=10)"
   ]
  },
  {
   "cell_type": "markdown",
   "metadata": {},
   "source": [
    "Predict propensity scores."
   ]
  },
  {
   "cell_type": "code",
   "execution_count": null,
   "metadata": {},
   "outputs": [],
   "source": [
    "m.predict_scores()\n",
    "m.plot_scores()"
   ]
  },
  {
   "cell_type": "markdown",
   "metadata": {},
   "source": [
    "We can tune the threshold for our matching, specifying \"random\" gives optimized value."
   ]
  },
  {
   "cell_type": "code",
   "execution_count": null,
   "metadata": {},
   "outputs": [],
   "source": [
    "m.tune_threshold(method='random')"
   ]
  },
  {
   "cell_type": "markdown",
   "metadata": {},
   "source": [
    "Now the data matching process!"
   ]
  },
  {
   "cell_type": "code",
   "execution_count": null,
   "metadata": {},
   "outputs": [],
   "source": [
    "m.match(method=\"min\", nmatches=1, threshold=0.001)\n",
    "m.record_frequency()\n",
    "\n",
    "m.assign_weight_vector()\n",
    "match_df = m.matched_data.sort_values(\"match_id\")"
   ]
  },
  {
   "cell_type": "markdown",
   "metadata": {},
   "source": [
    "Calculate the ATE (Average Treatment Effect) of internuclear distance on GFP expression."
   ]
  },
  {
   "cell_type": "code",
   "execution_count": null,
   "metadata": {},
   "outputs": [],
   "source": [
    "summation = 0\n",
    "for x in range(0,870):\n",
    "    Treated = match_df.loc[((match_df['match_id']==x) & (match_df['Bright_GFP']==1))]\n",
    "    Untreated = match_df.loc[((match_df['match_id']==x) & (match_df['Bright_GFP']==0))]\n",
    "\n",
    "    TE = Treated[['Distance_intensity_mean']].to_numpy() - Untreated[['Distance_intensity_mean']].to_numpy()\n",
    "    summation += TE\n",
    "\n",
    "ATE = summation/870"
   ]
  },
  {
   "cell_type": "markdown",
   "metadata": {},
   "source": [
    "**ATE = -0.76767402**\n",
    "\n",
    "Interpretation:\n",
    "\n",
    "Average treatment effect of internuclear distance on GFP expression is estimated as -0.76767402 for the cells with high LNP does."
   ]
  },
  {
   "cell_type": "markdown",
   "metadata": {},
   "source": [
    "**_This means an increase in internuclear distance results in an decrease in GFP expression intensity._**"
   ]
  }
 ],
 "metadata": {
  "kernelspec": {
   "display_name": "Python 3",
   "language": "python",
   "name": "python3"
  },
  "language_info": {
   "codemirror_mode": {
    "name": "ipython",
    "version": 3
   },
   "file_extension": ".py",
   "mimetype": "text/x-python",
   "name": "python",
   "nbconvert_exporter": "python",
   "pygments_lexer": "ipython3",
   "version": "3.7.4"
  }
 },
 "nbformat": 4,
 "nbformat_minor": 4
}
